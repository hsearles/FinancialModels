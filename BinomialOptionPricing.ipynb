{
 "cells": [
  {
   "cell_type": "code",
   "execution_count": 9,
   "metadata": {},
   "outputs": [],
   "source": [
    "import math\n",
    "import numpy as np"
   ]
  },
  {
   "cell_type": "code",
   "execution_count": 10,
   "metadata": {},
   "outputs": [
    {
     "name": "stdout",
     "output_type": "stream",
     "text": [
      "0.3333333333333333\n",
      "0.9801986733067553\n",
      "1.1224009024456676\n",
      "0.8909472522884107\n",
      "0.3856125014995631\n"
     ]
    }
   ],
   "source": [
    "#Some Initial Parameters:\n",
    "S0 = 36\n",
    "K = 40\n",
    "r = 0.06 #The rate of interest, or the risk-less short rate\n",
    "T =1.0 #The time horizon and option maturity\n",
    "sigma = 0.2 #Volatility\n",
    "m = 3 #The number of time intervals; note that there will actually be m+1 periods as Python counts from 0\n",
    "\n",
    "#Some Definitions:\n",
    "dt = T / m #Length of each time interval\n",
    "df = math.exp(-r * dt) #the discount favor for that fixed time interfal\n",
    "up = math.exp(sigma*math.sqrt(dt))\n",
    "down = 1 / up\n",
    "\n",
    "q = (df - down) / (up-down) #The martingale probability of an upward movement\n",
    "\n",
    "print(dt)\n",
    "print(df)\n",
    "print(up)\n",
    "print(down)\n",
    "print(q)\n"
   ]
  },
  {
   "cell_type": "code",
   "execution_count": 11,
   "metadata": {},
   "outputs": [
    {
     "name": "stdout",
     "output_type": "stream",
     "text": [
      "[[ 36.000  40.406  45.352  50.903]\n",
      " [  0.000  32.074  36.000  40.406]\n",
      " [  0.000   0.000  28.576  32.074]\n",
      " [  0.000   0.000   0.000  25.460]]\n"
     ]
    }
   ],
   "source": [
    "S = np.zeros((m+1, m+1))\n",
    "S[0, 0] = S0\n",
    "\n",
    "\n",
    "z = 1\n",
    "for t in range (1, m+1):\n",
    "    for i in range (0, z):\n",
    "        S[i, t] = S[i, t-1] *up\n",
    "        S[i + 1, t] = S[i, t-1]*down\n",
    "    z +=1\n",
    "\n",
    "np.set_printoptions(formatter={'float_kind': lambda x: '%7.3f' %x})\n",
    "\n",
    "print(S)"
   ]
  },
  {
   "cell_type": "code",
   "execution_count": 12,
   "metadata": {},
   "outputs": [
    {
     "name": "stdout",
     "output_type": "stream",
     "text": [
      "[[  4.000   0.000   0.000   0.000]\n",
      " [  0.000   7.926   4.000   0.000]\n",
      " [  0.000   0.000  11.424   7.926]\n",
      " [  0.000   0.000   0.000  14.540]]\n"
     ]
    }
   ],
   "source": [
    "h = np.zeros_like(S)\n",
    "\n",
    "\n",
    "K = 40\n",
    "z=1\n",
    "for t in range(0, m+1):\n",
    "    for i in range(0, z):\n",
    "        h[i, t] = max(K - S[i, t], 0)\n",
    "    z += 1\n",
    "\n",
    "print(h)"
   ]
  }
 ],
 "metadata": {
  "interpreter": {
   "hash": "1d1b13127b04329652edb67ca0bda96514b7107223cacfc135cd594cc3cca4a0"
  },
  "kernelspec": {
   "display_name": "Python 3.8.8 ('base')",
   "language": "python",
   "name": "python3"
  },
  "language_info": {
   "codemirror_mode": {
    "name": "ipython",
    "version": 3
   },
   "file_extension": ".py",
   "mimetype": "text/x-python",
   "name": "python",
   "nbconvert_exporter": "python",
   "pygments_lexer": "ipython3",
   "version": "3.8.8"
  },
  "orig_nbformat": 4
 },
 "nbformat": 4,
 "nbformat_minor": 2
}
