{
 "cells": [
  {
   "cell_type": "code",
   "execution_count": 3,
   "metadata": {},
   "outputs": [],
   "source": [
    "import numpy as np"
   ]
  },
  {
   "cell_type": "code",
   "execution_count": 4,
   "metadata": {},
   "outputs": [
    {
     "name": "stdout",
     "output_type": "stream",
     "text": [
      "(10, array([12.5,  7.5]))\n",
      "10\n",
      "12.5\n",
      "7.5\n",
      "[0.6 0.4]\n"
     ]
    }
   ],
   "source": [
    "#Modeling Asset Pricing Under Risk in a Two-Period Economy\n",
    "#I define financial assets as things that have a fixed price today, but a risky price in one year. A price process then maps the time and state of my economy to that asset's future price. \n",
    "\n",
    "V0 = 10 #the price today is independent of the state; V is for value\n",
    "V1 = np.array((12.5, 7.5)) #the price tomorrow depends on the economy's state\n",
    "\n",
    "V = (V0, V1) #the price process is a tuple object whose two dimensions model risk about tomorrow's state. The asset's value is higher in a bull market and lower in a bear market.\n",
    "print(V)\n",
    "\n",
    "print(V[0]) #the asset's price today\n",
    "print(V[1][0]) #the asset's price tomorrow in a bull market\n",
    "print(V[1][1]) #the asset's price tomorrow in a bear market\n",
    "\n",
    "#Technical detail: The financial asset's value depends on the agent's perceived probability of a bull or bear market tomorrow. I can use an expectation function to compute that value.\n",
    "p = 0.6 #perceived probability of a bull market\n",
    "P = np.array((p, 1-p)) #Vector P describes the perceived probabilities of a bull and bear market respectively; I can use Kolmogorov's Second Axiom of Probability to express the perceived probability of a bear market as 1-p\n",
    "print(P)\n"
   ]
  },
  {
   "cell_type": "code",
   "execution_count": 5,
   "metadata": {},
   "outputs": [
    {
     "name": "stdout",
     "output_type": "stream",
     "text": [
      "10.5\n",
      "0.5\n"
     ]
    }
   ],
   "source": [
    "def E(V1):\n",
    "    return np.dot(P, V1) #The expectation function can be expressed as the dot product of two vectors. I can use the dot product to compute the expected value of the asset tomorrow depending on its values on the different states and the perceived probabilities of those states\n",
    "\n",
    "print(E(V1))\n",
    "\n",
    "#I can now define and compute the asset's expected return:\n",
    "\n",
    "def ER(x0, x1): \n",
    "    return np.dot(P, x1) - x0\n",
    "\n",
    "print(ER(V0, V1))\n"
   ]
  },
  {
   "cell_type": "code",
   "execution_count": 6,
   "metadata": {},
   "outputs": [
    {
     "name": "stdout",
     "output_type": "stream",
     "text": [
      "0.05\n"
     ]
    }
   ],
   "source": [
    "#I can then define and compute the asset's rate of expected return: \n",
    "\n",
    "def mu(x0, x1):\n",
    "    return (np.dot(P, x1) - x0)/x0\n",
    "\n",
    "print(mu(V0, V1))"
   ]
  }
 ],
 "metadata": {
  "interpreter": {
   "hash": "25034407fed5d681614dac11a1c0537e8cb49e3a8883c071303eea01322943d9"
  },
  "kernelspec": {
   "display_name": "Python 3.9.6 64-bit",
   "language": "python",
   "name": "python3"
  },
  "language_info": {
   "codemirror_mode": {
    "name": "ipython",
    "version": 3
   },
   "file_extension": ".py",
   "mimetype": "text/x-python",
   "name": "python",
   "nbconvert_exporter": "python",
   "pygments_lexer": "ipython3",
   "version": "3.9.6"
  },
  "orig_nbformat": 4
 },
 "nbformat": 4,
 "nbformat_minor": 2
}
