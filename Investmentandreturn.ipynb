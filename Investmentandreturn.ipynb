{
 "cells": [
  {
   "cell_type": "code",
   "execution_count": 3,
   "metadata": {},
   "outputs": [
    {
     "name": "stdout",
     "output_type": "stream",
     "text": [
      "[-10, 12]\n",
      "2\n",
      "0.2\n"
     ]
    }
   ],
   "source": [
    "#Definition an Investment Project and Its Rate of Return in a Two-Period Economyy:\n",
    "c0 = -10 #Investment Today as a Cash Outflow\n",
    "c1 = 12 #Return Tomorrow as a Cash Inflow\n",
    "\n",
    "c = [c0, c1] #I define an investment project as a list of an outflow today and an inflow today, that is an investment and a payoff\n",
    "print(c)\n",
    "\n",
    "R = sum(c) #Defining the projects return\n",
    "print(R)\n",
    "\n",
    "r = R / abs(c[0]) #Defining the projects rate of return, if r>0, then the project makes a profit\n",
    "print(r)"
   ]
  },
  {
   "cell_type": "code",
   "execution_count": 4,
   "metadata": {},
   "outputs": [
    {
     "data": {
      "text/plain": [
       "0.5"
      ]
     },
     "execution_count": 4,
     "metadata": {},
     "output_type": "execute_result"
    }
   ],
   "source": [
    "#Defining function that provides a rate of return for a two-period project:\n",
    "def r(x, y): \n",
    "    R = x + y \n",
    "    r = R/abs(x)\n",
    "    return r\n",
    "\n",
    "r(-10, 15)"
   ]
  },
  {
   "cell_type": "code",
   "execution_count": 5,
   "metadata": {},
   "outputs": [
    {
     "name": "stdout",
     "output_type": "stream",
     "text": [
      "1.0238095238095237\n",
      "-0.023809523809523725\n"
     ]
    }
   ],
   "source": [
    "#Defining a two-period present value function:\n",
    "\n",
    "def PV(x):\n",
    "    i=0.05\n",
    "    return x/(1+i)\n",
    "\n",
    "PV(105)\n",
    "\n",
    "#Net present value:\n",
    "\n",
    "def NPV(c):\n",
    "    return c[0] + PV(c[1])\n",
    "\n",
    "cA = (-10.5, 12.1)\n",
    "cB = (-10.5, 11)\n",
    "\n",
    "print(NPV(cA))\n",
    "print(NPV(cB))"
   ]
  }
 ],
 "metadata": {
  "interpreter": {
   "hash": "ee5cc6fef2d70a7e71ee3826687cbd150f18158e0b1eef11d4f4f92bb920e304"
  },
  "kernelspec": {
   "display_name": "Python 3.9.6 64-bit",
   "language": "python",
   "name": "python3"
  },
  "language_info": {
   "codemirror_mode": {
    "name": "ipython",
    "version": 3
   },
   "file_extension": ".py",
   "mimetype": "text/x-python",
   "name": "python",
   "nbconvert_exporter": "python",
   "pygments_lexer": "ipython3",
   "version": "3.9.6"
  },
  "orig_nbformat": 4
 },
 "nbformat": 4,
 "nbformat_minor": 2
}
