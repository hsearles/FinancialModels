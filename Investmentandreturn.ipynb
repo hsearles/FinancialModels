{
 "cells": [
  {
   "cell_type": "code",
   "execution_count": 3,
   "metadata": {},
   "outputs": [
    {
     "name": "stdout",
     "output_type": "stream",
     "text": [
      "[-10, 12]\n",
      "2\n",
      "0.2\n"
     ]
    }
   ],
   "source": [
    "#Definition an Investment Project and Its Rate of Return in a Two-Period Economyy:\n",
    "c0 = -10 #Investment Today as a Cash Outflow\n",
    "c1 = 12 #Return Tomorrow as a Cash Inflow\n",
    "\n",
    "c = [c0, c1] #I define an investment project as a list of an outflow today and an inflow today, that is an investment and a payoff\n",
    "print(c)\n",
    "\n",
    "R = sum(c) #Defining the projects return\n",
    "print(R)\n",
    "\n",
    "r = R / abs(c[0]) #Defining the projects rate of return, if r>0, then the project makes a profit\n",
    "print(r)"
   ]
  },
  {
   "cell_type": "code",
   "execution_count": 4,
   "metadata": {},
   "outputs": [
    {
     "data": {
      "text/plain": [
       "0.5"
      ]
     },
     "execution_count": 4,
     "metadata": {},
     "output_type": "execute_result"
    }
   ],
   "source": [
    "#Defining function that provides a rate of return for a two-period project:\n",
    "def r(x, y): \n",
    "    R = x + y \n",
    "    r = R/abs(x)\n",
    "    return r\n",
    "\n",
    "r(-10, 15)"
   ]
  },
  {
   "cell_type": "code",
   "execution_count": 5,
   "metadata": {},
   "outputs": [
    {
     "name": "stdout",
     "output_type": "stream",
     "text": [
      "1.0238095238095237\n",
      "-0.023809523809523725\n"
     ]
    }
   ],
   "source": [
    "#Defining a two-period present value function:\n",
    "\n",
    "def PV(x):\n",
    "    i=0.05\n",
    "    return x/(1+i)\n",
    "\n",
    "PV(105)\n",
    "\n",
    "#Net present value:\n",
    "\n",
    "def NPV(c):\n",
    "    return c[0] + PV(c[1])\n",
    "\n",
    "cA = (-10.5, 12.1)\n",
    "cB = (-10.5, 11)\n",
    "\n",
    "print(NPV(cA))\n",
    "print(NPV(cB))"
   ]
  },
  {
   "cell_type": "code",
   "execution_count": 4,
   "metadata": {},
   "outputs": [
    {
     "name": "stdout",
     "output_type": "stream",
     "text": [
      "[20  5]\n",
      "[0.8 0.2]\n",
      "17.0\n",
      "7.0\n",
      "0.7\n"
     ]
    }
   ],
   "source": [
    "#Risky Assets and Expected Return\n",
    "import numpy as np\n",
    "\n",
    "#A Stock's Expected Future Value:\n",
    "S1 = np.array((20, 5)) #This stock's payoff depends on the economy's state tomorrow. It pays out 20 in a bull markett and 10 in a bear market. \n",
    "print(S1)\n",
    "\n",
    "p = 0.8\n",
    "P = np.array((p, 1-p)) #Following Kolmogorov's axioms of probability, I can define a Probability Measure that maps this economy's possible states to the unit interval. The probability of a Bull market is p and that of a Bear market is 1-p\n",
    "print(P)\n",
    "def E(x, y): #The stock's future value can be computed as an expectation. \n",
    "    return np.dot(x, y) #I can then compute the expectation function rather simply using a dot product\n",
    "\n",
    "print(E(P, S1))\n",
    "\n",
    "#A Stock's Expected Return:\n",
    "\n",
    "S0 = 10 #Defining the stock's price today\n",
    "\n",
    "def ER(x):\n",
    "    y = np.dot(x, P)\n",
    "    return y - S0\n",
    "\n",
    "print(ER(S1))\n",
    "\n",
    "#A Stock's Expected Rate of Return:\n",
    "\n",
    "def mu(x):\n",
    "    return ER(S1)/S0\n",
    "\n",
    "print(mu(S1))"
   ]
  },
  {
   "cell_type": "code",
   "execution_count": null,
   "metadata": {},
   "outputs": [],
   "source": []
  }
 ],
 "metadata": {
  "interpreter": {
   "hash": "ee5cc6fef2d70a7e71ee3826687cbd150f18158e0b1eef11d4f4f92bb920e304"
  },
  "kernelspec": {
   "display_name": "Python 3.9.6 64-bit",
   "language": "python",
   "name": "python3"
  },
  "language_info": {
   "codemirror_mode": {
    "name": "ipython",
    "version": 3
   },
   "file_extension": ".py",
   "mimetype": "text/x-python",
   "name": "python",
   "nbconvert_exporter": "python",
   "pygments_lexer": "ipython3",
   "version": "3.9.6"
  },
  "orig_nbformat": 4
 },
 "nbformat": 4,
 "nbformat_minor": 2
}
