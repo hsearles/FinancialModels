{
 "cells": [
  {
   "cell_type": "code",
   "execution_count": 127,
   "metadata": {},
   "outputs": [],
   "source": [
    "import numpy as np"
   ]
  },
  {
   "cell_type": "code",
   "execution_count": 128,
   "metadata": {},
   "outputs": [
    {
     "name": "stdout",
     "output_type": "stream",
     "text": [
      "[-10, 10.5]\n",
      "0.5\n",
      "0.05\n"
     ]
    }
   ],
   "source": [
    "#Defining a Financial Portfolio and Its Rate of Return in a Two-Period Economy:\n",
    "#The two periods are Today and Tomorrow\n",
    "\n",
    "c0 = -10 #I measure investment Today measured as a cash outflow.\n",
    "c1 =  10.5 #I then measure return Tomorrow measured as a cash inflow.\n",
    "\n",
    "c = [c0, c1] #I define a financial portfolio as a list.\n",
    "print(c)\n",
    "\n",
    "R = sum(c) # I define the portfolio's return\n",
    "print(R)\n",
    "\n",
    "r = R / abs(c[0]) #I then define a portfolio's rate of return\n",
    "print(r)"
   ]
  },
  {
   "cell_type": "code",
   "execution_count": 129,
   "metadata": {},
   "outputs": [
    {
     "data": {
      "text/plain": [
       "0.05"
      ]
     },
     "execution_count": 129,
     "metadata": {},
     "output_type": "execute_result"
    }
   ],
   "source": [
    "#We can make things easier for outself by defining a function that specifies the rate of return for any two-period project:\n",
    "def r(x, y): \n",
    "    R = x + y \n",
    "    r = R/abs(x)\n",
    "    return r\n",
    "\n",
    "r(c0, c1)"
   ]
  },
  {
   "cell_type": "code",
   "execution_count": 130,
   "metadata": {},
   "outputs": [
    {
     "name": "stdout",
     "output_type": "stream",
     "text": [
      "10.0\n",
      "The portfolio suffices a zero-profit condition.\n",
      "The portfolio suffices a zero-profit condition.\n",
      "The portfolio makes a profit of: 0.0\n"
     ]
    }
   ],
   "source": [
    "#I now examine a financial portfolio's 'present value'\n",
    "#To do so, I must introduce the idea of interest, which is the price paid for loans of money\n",
    "i = 0.05 #The rate of interest\n",
    "\n",
    "#Within my two-period model, I can define the present value of an asset x as follows:\n",
    "def PV(x):\n",
    "    return x/(1+i) #The present value of asset x\n",
    "\n",
    "print(PV(c1))\n",
    "\n",
    "\n",
    "#A financial portfolio can be understood as a strategy for making a profit. A trader strives to buy low and then sell high.\n",
    "#Within this two-period model, a trader's portfolio consists of an an asset that he buys Today and then sells it tomorrow.\n",
    "\n",
    "#Whether that portfolio makes a profit depends on the relation of that asset's price today and that same asset's present value tomorrow: \n",
    "if -c0 < PV(c1):\n",
    "    print(\"The portfolio is profitable.\")\n",
    "\n",
    "if -c0 > PV(c1):\n",
    "    print(\"The portfolio is unprofitable.\")\n",
    "\n",
    "if c0 == -PV(c1):\n",
    "    print(\"The portfolio suffices a zero-profit condition.\")\n",
    "\n",
    "\n",
    "#I can more succinctly examine whether a portfolio makes a profit through the relation of its rate of return to that of interest.\n",
    "if i < r(c0, c1):\n",
    "    print(\"The portfolio is profitable.\")\n",
    "\n",
    "if i > r(c0, c1):\n",
    "    print(\"The portfolio is unprofitable.\")\n",
    "\n",
    "if i == r(c0, c1):\n",
    "    print(\"The portfolio suffices a zero-profit condition.\")\n",
    "\n",
    "#To put the matter plainly, the portfolio is only profitable if the trader makes money borrowing money at the rate of interest to purchase the asset Today, then sell it Tomorrow and using the proceeds to pay his loan.\n",
    "#That is only the case when the portfolio's rate of return is larger than the market's rate of interest.\n",
    "\n",
    "#I now define a profit function that measures the amount by which a portfolio is profitable or unprofitable:\n",
    "def profit(x, y):\n",
    "    return y + (1+i)*x\n",
    "\n",
    "print(\"The portfolio makes a profit of:\", profit(c0, c1))\n",
    "\n",
    "#A rabbit that we can pull out of our rather simple hat here relates to the rates of return and interest.\n",
    "#Within a well-functioning economy, competition erodes profits away. \n",
    "#It follows that, at least in the long run, financial portfolio's various rates of return tend to converge to the rate of interest.\n"
   ]
  },
  {
   "cell_type": "code",
   "execution_count": 131,
   "metadata": {},
   "outputs": [
    {
     "name": "stdout",
     "output_type": "stream",
     "text": [
      "1.0238095238095237\n",
      "-0.023809523809523725\n"
     ]
    }
   ],
   "source": [
    "#I can also use the my present value function to define a portfolio's net present value:\n",
    "def NPV(c):\n",
    "    return c[0] + PV(c[1])\n",
    "\n",
    "cA = (-10.5, 12.1)\n",
    "cB = (-10.5, 11)\n",
    "\n",
    "print(NPV(cA))\n",
    "print(NPV(cB))"
   ]
  },
  {
   "cell_type": "code",
   "execution_count": 132,
   "metadata": {},
   "outputs": [
    {
     "name": "stdout",
     "output_type": "stream",
     "text": [
      "[20  5]\n",
      "[0.8 0.2]\n",
      "17.0\n",
      "7.0\n",
      "0.7\n"
     ]
    }
   ],
   "source": [
    "#Risky Assets and Their Expected Returns\n",
    "\n",
    "#A Stock's Expected Future Value:\n",
    "S1 = np.array((20, 5)) #This stock's price depends on the economy's state tomorrow. It pays out 20 in a bull markett and 10 in a bear market. \n",
    "print(S1)\n",
    "\n",
    "p = 0.8\n",
    "P = np.array((p, 1-p)) #Following Kolmogorov's axioms of probability, I can define a Probability Measure that maps this economy's possible states to the unit interval. The probability of a Bull market is p and that of a Bear market is 1-p\n",
    "print(P)\n",
    "def E(x, y): #The stock's future value can be computed as an expectation. \n",
    "    return np.dot(x, y) #I can then compute the expectation function rather simply using a dot product\n",
    "\n",
    "print(E(P, S1))\n",
    "\n",
    "#A Stock's Expected Return:\n",
    "\n",
    "S0 = 10 #Defining the stock's price today\n",
    "\n",
    "#I can define a assets's expected returns as follows:\n",
    "def ER(x):\n",
    "    y = np.dot(x, P)\n",
    "    return y - S0\n",
    "\n",
    "print(ER(S1))\n",
    "\n",
    "#I can now define that same asset's expected rate of return:\n",
    "#The Greek letter μ, Mu, is generally used to describe an asset's expected rate of return\n",
    "def mu(x):\n",
    "    return ER(S1)/S0\n",
    "\n",
    "print(mu(S1))"
   ]
  },
  {
   "cell_type": "code",
   "execution_count": null,
   "metadata": {},
   "outputs": [],
   "source": []
  }
 ],
 "metadata": {
  "interpreter": {
   "hash": "25034407fed5d681614dac11a1c0537e8cb49e3a8883c071303eea01322943d9"
  },
  "kernelspec": {
   "display_name": "Python 3.9.6 64-bit",
   "language": "python",
   "name": "python3"
  },
  "language_info": {
   "codemirror_mode": {
    "name": "ipython",
    "version": 3
   },
   "file_extension": ".py",
   "mimetype": "text/x-python",
   "name": "python",
   "nbconvert_exporter": "python",
   "pygments_lexer": "ipython3",
   "version": "3.9.6"
  },
  "orig_nbformat": 4
 },
 "nbformat": 4,
 "nbformat_minor": 2
}
