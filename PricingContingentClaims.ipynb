{
 "cells": [
  {
   "cell_type": "code",
   "execution_count": 13,
   "metadata": {},
   "outputs": [],
   "source": [
    "import numpy as np\n",
    "from pylab import plt\n",
    "from numpy.random import default_rng"
   ]
  },
  {
   "cell_type": "code",
   "execution_count": 14,
   "metadata": {},
   "outputs": [
    {
     "name": "stdout",
     "output_type": "stream",
     "text": [
      "[ 0  1  2  3  4  5  6  7  8  9 10 11 12 13 14 15 16 17 18 19]\n",
      "[0 0 0 0 0 0 0 0 0 0 0 1 2 3 4 5 6 7 8 9]\n"
     ]
    },
    {
     "data": {
      "text/plain": [
       "Text(0, 0.5, \"The Call Option's Payoff ($C_1$)\")"
      ]
     },
     "execution_count": 14,
     "metadata": {},
     "output_type": "execute_result"
    },
    {
     "data": {
      "text/plain": [
       "<Figure size 720x432 with 0 Axes>"
      ]
     },
     "metadata": {},
     "output_type": "display_data"
    },
    {
     "data": {
      "image/png": "[encoded data removed]",
      "text/plain": [
       "<Figure size 432x288 with 1 Axes>"
      ]
     },
     "metadata": {
      "needs_background": "light"
     },
     "output_type": "display_data"
    }
   ],
   "source": [
    "#Formally, a contingent claim is a function that maps economy states to non-negative real numbers, that is to payoffs\n",
    "\n",
    "#I want to examine the payoff to a stock's call option. First I shall graphically show how that payoff relates to the stock's strike price: \n",
    "\n",
    "Z1 = np.arange(20) #First, I create a variety of possible future payoffs. I use Z for its similarity to S, which I want to reserve for future use below\n",
    "print(Z1)\n",
    "\n",
    "K = 10 #I define the strike price\n",
    "\n",
    "C1 = np.maximum(Z1 - K, 0) #The option's payoff values are calculated as the difference between its future value and its current strike price\n",
    "print(C1)\n",
    "\n",
    "\n",
    "\n",
    "#I now plot future payoff:\n",
    "plt.figure(figsize=(10, 6))\n",
    "plt.subplots()\n",
    "plt.plot(Z1, C1, color='#a05195', label='$C_1 = \\max(Z_1 - K, 0)$') #Note the Latex code!\n",
    "plt.axvline(x= K, linestyle='--', color='#2f4b7c') \n",
    "plt.text(K+0.2, 8, 'The stock\\'s strike price')\n",
    "plt.legend(loc=0)\n",
    "\n",
    "\n",
    "\n",
    "plt.xlabel('The Stock\\'s Future Value ($Z_1)$')\n",
    "plt.ylabel('The Call Option\\'s Payoff ($C_1$)')\n"
   ]
  },
  {
   "cell_type": "code",
   "execution_count": 15,
   "metadata": {},
   "outputs": [
    {
     "name": "stdout",
     "output_type": "stream",
     "text": [
      "(10, array([11, 11]))\n",
      "(10, array([20,  5]))\n",
      "[5 0]\n",
      "[[11 20]\n",
      " [11  5]]\n",
      "[-0.15151515  0.33333333]\n",
      "1.8181818181818183\n"
     ]
    }
   ],
   "source": [
    "#I now assume that two assets are traded:\n",
    "B = (10, np.array((11, 11))) #A riskless bond with price process B. The bond is not a risky investment because its price process does not depend on the economy's state. \n",
    "S = (10, np.array((20, 5))) #and a risky stock with price process S\n",
    "\n",
    "print(B)\n",
    "print(S)\n",
    "\n",
    "#I now want to see whether an agent can replicate the payoff to a call option using a portfolio of a stock and bond\n",
    "\n",
    "K = 15 #The call option's strike price\n",
    "C1 = np.maximum(S[1] - K, 0) #I define the call option's price process\n",
    "print(C1)\n",
    "\n",
    "#The question now becomes whether a portfolio of stocks and bonds (b, s) can replicate C1:\n",
    "#I can simply set up a system of equations and solve for the replication problem. If a solution exissts, then that replication portfolio exists.\n",
    "M = np.array((B[1], S[1])).T #A matrix describing the payoffs of bonds and stocks tomorrow\n",
    "print(M)\n",
    "\n",
    "phi=np.linalg.solve(M, C1) #If it exists, phi specifies the replication portfolio\n",
    "print(phi)\n",
    "\n",
    "#I can now compute how much the replication portfolio costs to purchase today:\n",
    "\n",
    "O = np.dot(phi, (B[0], S[0])) #I choose the letter O for 'opportunity cost'\n",
    "print(O) #Mathematics generally use optimization tools to model economies. Zero-profit conditions follow from those conditions. It follows that the only equilibrium pprice for the contingent claim to the call option is equal to O, lest there are arbitrage opportunities. \n"
   ]
  },
  {
   "cell_type": "code",
   "execution_count": 16,
   "metadata": {},
   "outputs": [
    {
     "name": "stdout",
     "output_type": "stream",
     "text": [
      "(10, array([11, 11]))\n",
      "(10, array([20,  5]))\n",
      "[5 0]\n",
      "[[11 20]\n",
      " [11  5]]\n",
      "[-0.15151515  0.33333333]\n",
      "1.8181818181818183\n"
     ]
    }
   ],
   "source": [
    "#I now assume that two assets are traded:\n",
    "B = (10, np.array((11, 11))) #A riskless bond with price process B. The bond is not a risky investment because its price process does not depend on the economy's state. \n",
    "S = (10, np.array((20, 5))) #and a risky stock with price process S\n",
    "\n",
    "print(B)\n",
    "print(S)\n",
    "\n",
    "#I now want to see whether an agent can replicate the payoff to a call option using a portfolio of a stock and bond\n",
    "\n",
    "K = 15 #The call option's strike price\n",
    "C1 = np.maximum(S[1] - K, 0) #I define the call option's price process\n",
    "print(C1)\n",
    "\n",
    "#The question now becomes whether a portfolio of stocks and bonds (b, s) can replicate C1:\n",
    "#I can simply set up a system of equations and solve for the replication problem. If a solution exissts, then that replication portfolio exists.\n",
    "M = np.array((B[1], S[1])).T #A matrix describing the payoffs of bonds and stocks tomorrow\n",
    "print(M)\n",
    "\n",
    "phi=np.linalg.solve(M, C1) #If it exists, phi specifies the replication portfolio\n",
    "print(phi)\n",
    "\n",
    "#I can now compute how much the replication portfolio costs to purchase today:\n",
    "\n",
    "O = np.dot(phi, (B[0], S[0])) #I choose the letter O for 'opportunity cost'\n",
    "print(O) #Mathematics generally use optimization tools to model economies. Zero-profit conditions follow from those conditions. It follows that the only equilibrium pprice for the contingent claim to the call option is equal to O, lest there are arbitrage opportunities. \n"
   ]
  },
  {
   "cell_type": "code",
   "execution_count": 17,
   "metadata": {},
   "outputs": [
    {
     "name": "stderr",
     "output_type": "stream",
     "text": [
      "C:\\Users\\harri\\AppData\\Local\\Temp/ipykernel_14476/2747464827.py:24: UserWarning: color is redundantly defined by the 'color' keyword argument and the fmt string \"r.\" (-> color='r'). The keyword argument will take precedence.\n",
      "  plt.plot(A[:, 0], A[:,1], 'r.', color='#a05195')\n"
     ]
    },
    {
     "data": {
      "text/plain": [
       "Text(20, 5, 'Pure Stock Portfolio')"
      ]
     },
     "execution_count": 17,
     "metadata": {},
     "output_type": "execute_result"
    },
    {
     "data": {
      "image/png": "[encoded data removed]",
      "text/plain": [
       "<Figure size 720x432 with 1 Axes>"
      ]
     },
     "metadata": {
      "needs_background": "light"
     },
     "output_type": "display_data"
    }
   ],
   "source": [
    "#Market Completeness\n",
    "#A market is complete when I can assign a price to every feasible asset within an economy.\n",
    "#I shall prove completeness for a simple two-asset economy graphically by demonstrating the existence of a line between two pure portfolios. That line demonstrates that I can choose any feasible mixed portfolio.\n",
    "\n",
    "rng=default_rng(100)\n",
    "\n",
    "n =1000\n",
    "b = rng.random(n)\n",
    "\n",
    "\n",
    "s = (1-b) #The stock position is the unit completement to the bond position\n",
    "\n",
    "\n",
    "def portfolio(b, s):\n",
    "    A = [b[i]*B[1] + s[i]*S[1] for i in range(n)]\n",
    "    return np.array(A)\n",
    "\n",
    "\n",
    "A = portfolio(b, s)\n",
    "\n",
    "\n",
    "\n",
    "plt.figure(figsize=(10, 6))\n",
    "plt.plot(A[:, 0], A[:,1], 'r.', color='#a05195')\n",
    "plt.xlabel('Portfolio Payoff in a Bull Market')\n",
    "plt.ylabel('Portfolio Payoff in a Bear Market')\n",
    "plt.annotate(\"Pure Bond Portfolio\", (11, 11))\n",
    "plt.annotate(\"Pure Stock Portfolio\", (20, 5))\n",
    "\n",
    "#Market completeness is demonstrated by the line of possible stocks between a pure bond and pure stock portfolio. There is a portfolio that corresponds to any arbitrary feasible combination of stocks and bonds. "
   ]
  },
  {
   "cell_type": "code",
   "execution_count": null,
   "metadata": {},
   "outputs": [],
   "source": []
  }
 ],
 "metadata": {
  "interpreter": {
   "hash": "ee5cc6fef2d70a7e71ee3826687cbd150f18158e0b1eef11d4f4f92bb920e304"
  },
  "kernelspec": {
   "display_name": "Python 3.9.6 64-bit",
   "language": "python",
   "name": "python3"
  },
  "language_info": {
   "codemirror_mode": {
    "name": "ipython",
    "version": 3
   },
   "file_extension": ".py",
   "mimetype": "text/x-python",
   "name": "python",
   "nbconvert_exporter": "python",
   "pygments_lexer": "ipython3",
   "version": "3.9.6"
  },
  "orig_nbformat": 4
 },
 "nbformat": 4,
 "nbformat_minor": 2
}
